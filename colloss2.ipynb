{
 "cells": [
  {
   "cell_type": "code",
   "execution_count": 158,
   "metadata": {},
   "outputs": [],
   "source": [
    "# utils\n",
    "def BinarySearch(x, arr):\n",
    "    mid = len(arr) // 2\n",
    "    low = 0\n",
    "    high = len(arr) - 1\n",
    "    \n",
    "    while arr[mid] != x and low <= high:\n",
    "        if x > arr[mid]:\n",
    "            low = mid + 1\n",
    "        else:\n",
    "            high = mid - 1\n",
    "        mid = (low + high) // 2\n",
    "    \n",
    "    return mid\n"
   ]
  },
  {
   "cell_type": "code",
   "execution_count": 159,
   "metadata": {},
   "outputs": [],
   "source": [
    "import numpy as np\n",
    "import matplotlib.pyplot as plt\n",
    "from numpy import log, exp, sin, cos, sqrt"
   ]
  },
  {
   "cell_type": "code",
   "execution_count": 160,
   "metadata": {},
   "outputs": [],
   "source": [
    "# Рассчёт значения из прошлого шагом плотной выдачи\n",
    "def phi(x, X, Y, K, b, h, x0, past):\n",
    "    if x < x0:\n",
    "        return past(x)\n",
    "    if x in X:\n",
    "        return Y[X.index(x)]\n",
    "\n",
    "    i_xm = BinarySearch(x, X)\n",
    "    \n",
    "    theta = (x - X[i_xm]) / h\n",
    "\n",
    "    if(i_xm > len(K) - 1):\n",
    "        return past(x)\n",
    "    \n",
    "    return Y[i_xm] + h * sum([K[i_xm][i] * b[i](theta) for i in range(len(b))])\n"
   ]
  },
  {
   "cell_type": "code",
   "execution_count": 161,
   "metadata": {},
   "outputs": [],
   "source": [
    "# шаг явного метода\n",
    "def stepExplicit(method, problem, X, Y, h, K):\n",
    "    x = X[-1]\n",
    "    y = Y[-1]\n",
    "    z = problem.Z(X, Y, K, method.B, h, problem.x0, problem.past) if problem.Z else None\n",
    "\n",
    "    # K_i = f(x_0 + h * c_i, y_0 + h * sum( K_j * A_ij ) ) i < j < N\n",
    "    _K = []\n",
    "    for i in range(method.N):\n",
    "        dy = h * sum([_K[j] * method.A[i][j] for j in range(len(_K))])\n",
    "        _K.append( problem.f(x + method.c[i] * h, y + dy, z) )\n",
    "        \n",
    "    return x + h, y + h * sum([_K[i] * method.B[i](1) for i in range(method.N)]), _K\n",
    "\n",
    "# шаг неявного метода\n",
    "def stepImplicit(method, problem, X, Y, h, K):\n",
    "    x = X[-1]\n",
    "    y = Y[-1]\n",
    "    z = problem.Z(X, Y, K, method.B, h, problem.x0, problem.past) if problem.Z else None\n",
    "\n",
    "    Zk = [problem.f(x, y, z)] * method.N\n",
    "    J = problem.fprime(x, y, z)\n",
    "    N = [\n",
    "        [\n",
    "            (1 if i == j else 0) - h * method.A[i][j] * J\n",
    "            for j in range(method.N)\n",
    "        ]\n",
    "        for i in range(method.N)\n",
    "        # [1 - h * method.A[0][0] * J, - h * method.A[0][1] * J],\n",
    "        # [ - h * method.A[1][0] * J, 1 - h * method.A[1][1] * J]\n",
    "    ]\n",
    "    for _ in range(1):\n",
    "        Fzk = [\n",
    "            problem.f(x + method.c[i], y + Zk[i], z)\n",
    "            for i in range(method.N)\n",
    "        ]\n",
    "        nb = [\n",
    "            -Zk[i] + h * sum([\n",
    "                method.A[i][j] * Fzk[j]\n",
    "                for j in range(method.N)\n",
    "            ])\n",
    "            for i in range(method.N)\n",
    "        ]\n",
    "        Zk = np.linalg.solve(N, nb)\n",
    "\n",
    "    return x + h, y + h * sum([Zk[i] * method.B[i](1) for i in range(method.N)]), Zk\n",
    "\n",
    "def stepImplicitOld(method, problem, X, Y, h, K):\n",
    "    x = X[-1]\n",
    "    y = Y[-1]\n",
    "    z = problem.Z(X, Y, K, method.B, h, problem.x0, problem.past) if problem.Z else None\n",
    "\n",
    "    _K = [0] * method.N\n",
    "    for _ in range(5):\n",
    "        __K = []\n",
    "        # K_i = f(x_0 + h * c_i, y_0 + h * sum( K_j * A_ij ) ) i,j < N\n",
    "        for i in range(method.N):\n",
    "            dy = h * sum([_K[j] * method.A[i][j] for j in range(method.N)])\n",
    "            __K.append( problem.f(x + method.c[i] * h, y + dy, z) )\n",
    "        _K = __K\n",
    "\n",
    "    return x + h, y + h * sum([_K[i] * method.B[i](1) for i in range(method.N)]), _K"
   ]
  },
  {
   "cell_type": "code",
   "execution_count": 162,
   "metadata": {},
   "outputs": [],
   "source": [
    "class Method:\n",
    "    def __init__(self, A, B, c, implict=False):\n",
    "        self.A = A\n",
    "        self.B = B\n",
    "        self.c = c\n",
    "        self.N = len(c)\n",
    "        self.implicit = implict\n",
    "        self.step = stepImplicitOld if implict else stepExplicit"
   ]
  },
  {
   "cell_type": "code",
   "execution_count": 163,
   "metadata": {},
   "outputs": [],
   "source": [
    "class Problem:\n",
    "    def __init__(self, x0, x1, y0, f, trueSol, fprime=None, past=None, Z=None):\n",
    "        self.x0 = x0\n",
    "        self.x1 = x1\n",
    "        self.y0 = y0\n",
    "        self.f = f\n",
    "        self.trueSol = trueSol\n",
    "        self.fprime = fprime\n",
    "        self.past = past\n",
    "        self.Z = Z"
   ]
  },
  {
   "cell_type": "code",
   "execution_count": 164,
   "metadata": {},
   "outputs": [],
   "source": [
    "def getSolution(method, problem, h):\n",
    "    x, y, k = problem.x0, problem.y0, []\n",
    "    X = [x]\n",
    "    Y = [y]\n",
    "    K = k\n",
    "    while X[-1] != problem.x1:\n",
    "        if X[-1] + h > problem.x1:\n",
    "            x, y, k = method.step(method, problem, X, Y, problem.x1 - X[-1], K)\n",
    "        else:\n",
    "            x, y, k = method.step(method, problem, X, Y, h, K)\n",
    "        X.append(x)\n",
    "        Y.append(y)\n",
    "        K.append(k)\n",
    "        \n",
    "    return X, Y"
   ]
  },
  {
   "cell_type": "code",
   "execution_count": 165,
   "metadata": {},
   "outputs": [],
   "source": [
    "def getGraph(method, problem, h):\n",
    "    x, y = getSolution(method, problem, h)\n",
    "\n",
    "    fig, ax = plt.subplots()\n",
    "    trueSolDelay = [problem.trueSol(x) for x in x]\n",
    "\n",
    "    ax.plot(x, y, 'r:')\n",
    "    ax.plot(x, trueSolDelay, 'g')\n",
    "    ax.grid(True)\n",
    "\n",
    "    print(f'Err = {abs(y[-1] - trueSolDelay[-1])}')"
   ]
  },
  {
   "cell_type": "code",
   "execution_count": 166,
   "metadata": {},
   "outputs": [],
   "source": [
    "def getGraph2Pow(method, problem, p=3, endPower=10, Q=2):\n",
    "    N = []\n",
    "    H = []\n",
    "    for k in range(1, endPower):\n",
    "        h = 1 / (Q ** k)\n",
    "        H.append(np.log10(h))\n",
    "        x, y = getSolution(method, problem, h)\n",
    "        trueY = [problem.trueSol(x) for x in x]\n",
    "        N.append(np.log10( abs(trueY[-1] - y[-1]) ))\n",
    "\n",
    "    y = N[0]+p*(H-H[0])\n",
    "\n",
    "    fig, ax = plt.subplots()\n",
    "    ax.set_title(f'Log10: p = {p}')\n",
    "    ax.plot(H, N, color='b', linestyle='--')\n",
    "    # ax.plot([-4, -1], [-6, 0], 'r')\n",
    "    ax.plot(H, y, 'r')\n",
    "    ax.grid(True)"
   ]
  },
  {
   "cell_type": "code",
   "execution_count": 167,
   "metadata": {},
   "outputs": [
    {
     "name": "stderr",
     "output_type": "stream",
     "text": [
      "C:\\Users\\l3-vi\\AppData\\Local\\Temp\\ipykernel_21844\\135924841.py:1: RuntimeWarning: divide by zero encountered in log10\n",
      "  np.log10(0)\n"
     ]
    },
    {
     "data": {
      "text/plain": [
       "-inf"
      ]
     },
     "execution_count": 167,
     "metadata": {},
     "output_type": "execute_result"
    }
   ],
   "source": [
    "np.log10(0)"
   ]
  },
  {
   "cell_type": "code",
   "execution_count": 168,
   "metadata": {},
   "outputs": [],
   "source": [
    "# Функция приближения значения из прошлого\n",
    "def Z(X, Y, K, B, h, x0, past):\n",
    "    def z(x):\n",
    "        return phi(x, X, Y, K, B, h, x0, past)\n",
    "    \n",
    "    return z"
   ]
  },
  {
   "cell_type": "code",
   "execution_count": 169,
   "metadata": {},
   "outputs": [],
   "source": [
    "# Задача 0\n",
    "def solution0(x):\n",
    "    return sin(x) + cos(x)\n",
    "\n",
    "H_0 = 0.3 \n",
    "\n",
    "def f0(x, y, z):\n",
    "    return cos(x) - sin(x)\n",
    "\n",
    "problem0 = Problem(x0 = 0, x1 = 5, y0 = 1, f = f0, trueSol = solution0)"
   ]
  },
  {
   "cell_type": "code",
   "execution_count": 170,
   "metadata": {},
   "outputs": [],
   "source": [
    "# Задача 1\n",
    "def solution1(x):\n",
    "    if x <= 0:\n",
    "        return 1\n",
    "    if x <= 1:\n",
    "        return 1 - x\n",
    "    if x <= 2:\n",
    "        return 1 - x + (x - 1)**2 / 2\n",
    "    if x <= 3:\n",
    "        return 1 - x + (x - 1)**2 / 2 - (x - 2)**3 / 6\n",
    "    if x <= 4:\n",
    "        return 1 - x + (x - 1)**2 / 2 - (x - 2)**3 / 6 + (x - 3)**4 / 24\n",
    "    if x <= 5:\n",
    "        return 1 - x + (x - 1)**2 / 2 - (x - 2)**3 / 6 + (x - 3)**4 / 24 - (x - 4)**5 / 120\n",
    "    \n",
    "H_1 = 0.3 \n",
    "\n",
    "def f1(x, y, z):\n",
    "    return -z(x - 1)\n",
    "\n",
    "def fprime1(x, y, z):\n",
    "    return 0\n",
    "\n",
    "def past1(x):\n",
    "    return 1\n",
    "\n",
    "problem1 = Problem(x0 = 0, x1 = 5, y0 = 1, f = f1, trueSol = solution1, fprime = fprime1, past = past1, Z = Z)"
   ]
  },
  {
   "cell_type": "code",
   "execution_count": 171,
   "metadata": {},
   "outputs": [],
   "source": [
    "# Задача 2\n",
    "xi1, xi2, xi3 = 1, 2, 5.0294372515248\n",
    "def solution2(x):\n",
    "    if x < xi1:\n",
    "        return 1\n",
    "    if x < xi2:\n",
    "        return sqrt(x)\n",
    "    else:\n",
    "        return x/4 + 1/2 + (1 - 1 / sqrt(2)) * sqrt(x) \n",
    "\n",
    "H_2 = 0.3 \n",
    "\n",
    "def f2(x, y, z):\n",
    "    return z(y - sqrt(2) + 1) / (2 * sqrt(x))\n",
    "\n",
    "def fprime2(x, y, z):\n",
    "    return 0\n",
    "\n",
    "def past2(x):\n",
    "    return 1\n",
    "\n",
    "problem2 = Problem(x0 = 1, x1 = 3, y0 = 1, f = f2, trueSol = solution2, fprime = fprime2, past = past2, Z = Z)"
   ]
  },
  {
   "cell_type": "code",
   "execution_count": 172,
   "metadata": {},
   "outputs": [],
   "source": [
    "# Получение 4-x четырёхшагового метода CREK\n",
    "A = [\n",
    "    [0,       0,        0,       0],\n",
    "    [12/23,   0,        0,       0],\n",
    "    [-68/375, 368/375,  0,       0],\n",
    "    [31/144,  529/1152, 125/384, 0]\n",
    "]\n",
    "\n",
    "B = [\n",
    "    lambda theta: 41/72 * theta**3 - 65/48 * theta**2 + theta,\n",
    "    lambda theta: -529/576 * theta**3 + 529/384 * theta**2,\n",
    "    lambda theta: -125/192 * theta**3 + 125/128 * theta**2,\n",
    "    lambda theta: theta**3 - theta**2\n",
    "]\n",
    "\n",
    "C = [0, 12/23, 4/5, 1]\n",
    "\n",
    "CREK_method = Method(A, B, C)"
   ]
  },
  {
   "cell_type": "code",
   "execution_count": 173,
   "metadata": {},
   "outputs": [],
   "source": [
    "# getGraph(CREK_method, problem1, H_1)\n",
    "# getGraph2Pow(CREK_method, problem1)"
   ]
  },
  {
   "cell_type": "code",
   "execution_count": 174,
   "metadata": {},
   "outputs": [],
   "source": [
    "# getGraph(CREK_method, problem2, H_2)\n",
    "# getGraph2Pow(CREK_method, problem2)"
   ]
  },
  {
   "cell_type": "code",
   "execution_count": 175,
   "metadata": {},
   "outputs": [],
   "source": [
    "# Параметры метода Гаусса 2\n",
    "A = [\n",
    "        [1/4, (1 - 2/sqrt(3))/4],\n",
    "        [(1 + 2/sqrt(3))/4, 1/4]\n",
    "    ]\n",
    "\n",
    "B = [\n",
    "    lambda theta: (1 + sqrt(3)) * theta / 2 - sqrt(3) * theta * theta / 2,\n",
    "    lambda theta: (1 - sqrt(3)) * theta / 2 + sqrt(3) * theta * theta / 2,\n",
    "]\n",
    "\n",
    "C = [(1 - 1/sqrt(3))/2, (1 + 1/sqrt(3))/2]\n",
    "\n",
    "GAUSS2_implicit = Method(A, B, C, implict=True)"
   ]
  },
  {
   "cell_type": "code",
   "execution_count": 176,
   "metadata": {},
   "outputs": [],
   "source": [
    "# getGraph(GAUSS2_implicit, problem1, H_1)\n",
    "# getGraph2Pow(GAUSS2_implicit, problem1, p = 4)"
   ]
  },
  {
   "cell_type": "code",
   "execution_count": 177,
   "metadata": {},
   "outputs": [],
   "source": [
    "def solution3(x):\n",
    "    return 3 * sin(x) - 5 * cos(x)\n",
    "    \n",
    "def f3(x, y, z):\n",
    "    return y + z(x - np.pi) + 3 * cos(x) + 5 * sin(x)\n",
    "\n",
    "def fprime3(x, y, z):\n",
    "    return 1\n",
    "\n",
    "def past3(x):\n",
    "    return 3 * sin(x) - 5 * cos(x)\n",
    "\n",
    "H_3 = 0.3\n",
    "\n",
    "problem3 = Problem(x0 = 0, x1 = 2*np.pi, y0 = solution3(0), f = f3, trueSol = solution3, fprime = fprime3, past = past3, Z = Z)\n"
   ]
  },
  {
   "cell_type": "code",
   "execution_count": 178,
   "metadata": {},
   "outputs": [],
   "source": [
    "# getGraph(GAUSS2_implicit, problem3, H_3)\n",
    "# getGraph2Pow(GAUSS2_implicit, problem3, p = 4)"
   ]
  },
  {
   "cell_type": "code",
   "execution_count": 179,
   "metadata": {},
   "outputs": [],
   "source": [
    "# Параметры метода Гаусса 3\n",
    "A = [\n",
    "    [5/36, 2/9 - sqrt(15)/15, 5/36 - sqrt(15)/30],\n",
    "    [5/36 + sqrt(15)/24, 2/9, 5/36 - sqrt(15)/24],\n",
    "    [5/36 + sqrt(15)/30, 2/9 + sqrt(15)/15, 5/36],\n",
    "]\n",
    "B = [\n",
    "    lambda theta: 5/18, \n",
    "    lambda theta: 4/9, \n",
    "    lambda theta: 5/18\n",
    "]\n",
    "C = [\n",
    "    1/2 - sqrt(15)/10, \n",
    "    1/2, \n",
    "    1/2 + sqrt(15)/10\n",
    "]\n",
    "\n",
    "GAUSS3_explicit = Method(A, B, C)"
   ]
  },
  {
   "cell_type": "code",
   "execution_count": 180,
   "metadata": {},
   "outputs": [
    {
     "name": "stdout",
     "output_type": "stream",
     "text": [
      "Err = 6.848863698394325e-10\n"
     ]
    },
    {
     "data": {
      "image/png": "[encoded data removed]",
      "text/plain": [
       "<Figure size 640x480 with 1 Axes>"
      ]
     },
     "metadata": {},
     "output_type": "display_data"
    },
    {
     "data": {
      "image/png": "[encoded data removed]",
      "text/plain": [
       "<Figure size 640x480 with 1 Axes>"
      ]
     },
     "metadata": {},
     "output_type": "display_data"
    }
   ],
   "source": [
    "getGraph(GAUSS3_explicit, problem0, H_0)\n",
    "getGraph2Pow(GAUSS3_explicit, problem0, p = 6, endPower=8)"
   ]
  },
  {
   "cell_type": "code",
   "execution_count": 181,
   "metadata": {},
   "outputs": [],
   "source": [
    "# Параметры метода Гаусса 3\n",
    "\n",
    "sq3by5over8 = sqrt(3/5) / 8\n",
    "\n",
    "A = [\n",
    "    [5/36, 2/9 - sqrt(15)/15, 5/36 - sqrt(15)/30],\n",
    "    [5/36 + sqrt(15)/24, 2/9, 5/36 - sqrt(15)/24],\n",
    "    [5/36 + sqrt(15)/30, 2/9 + sqrt(15)/15, 5/36],\n",
    "]\n",
    "B = [\n",
    "    lambda theta: 10/9*theta**3 + (-5/3 - 1/6*sqrt(15))*theta**2 + theta*(5/6 + 1/6*sqrt(15)),\n",
    "    lambda theta: -20/9*theta**3 + 10/3*theta**2 - 2/3*theta,\n",
    "    lambda theta: 10/9*theta**3 + (-5/3 + 1/6*sqrt(15))*theta**2 + theta*(-1/6*sqrt(15) + 5/6)\n",
    "]\n",
    "C = [\n",
    "    1/2 - sqrt(15)/10, \n",
    "    1/2, \n",
    "    1/2 + sqrt(15)/10\n",
    "]\n",
    "\n",
    "GAUSS3_implicit = Method(A, B, C, implict=True)"
   ]
  },
  {
   "cell_type": "code",
   "execution_count": 182,
   "metadata": {},
   "outputs": [
    {
     "name": "stdout",
     "output_type": "stream",
     "text": [
      "[0.2777777777777777, 0.44444444444444453, 0.2777777777777779]\n",
      "[0.2777777777777778, 0.4444444444444444, 0.2777777777777778]\n"
     ]
    }
   ],
   "source": [
    "print([b(1) for b in B])\n",
    "print([5/18, 4/9, 5/18])\n"
   ]
  },
  {
   "cell_type": "code",
   "execution_count": 183,
   "metadata": {},
   "outputs": [
    {
     "data": {
      "image/png": "[encoded data removed]",
      "text/plain": [
       "<Figure size 640x480 with 1 Axes>"
      ]
     },
     "metadata": {},
     "output_type": "display_data"
    }
   ],
   "source": [
    "# getGraph(GAUSS3_implicit, problem0, H_1)\n",
    "getGraph2Pow(GAUSS3_implicit, problem0, p = 6, endPower=10, Q = 1.2)"
   ]
  }
 ],
 "metadata": {
  "kernelspec": {
   "display_name": "Python 3",
   "language": "python",
   "name": "python3"
  },
  "language_info": {
   "codemirror_mode": {
    "name": "ipython",
    "version": 3
   },
   "file_extension": ".py",
   "mimetype": "text/x-python",
   "name": "python",
   "nbconvert_exporter": "python",
   "pygments_lexer": "ipython3",
   "version": "3.12.2"
  }
 },
 "nbformat": 4,
 "nbformat_minor": 2
}
